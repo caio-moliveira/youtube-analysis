{
 "cells": [
  {
   "cell_type": "code",
   "execution_count": 1420,
   "metadata": {},
   "outputs": [],
   "source": [
    "##!pip install google-api-python-client\n"
   ]
  },
  {
   "cell_type": "code",
   "execution_count": 1421,
   "metadata": {},
   "outputs": [],
   "source": [
    "from googleapiclient.discovery import build\n"
   ]
  },
  {
   "cell_type": "code",
   "execution_count": 1422,
   "metadata": {},
   "outputs": [],
   "source": [
    "youTubeApiKey = \"yourKey\""
   ]
  },
  {
   "cell_type": "code",
   "execution_count": 1423,
   "metadata": {},
   "outputs": [],
   "source": [
    "youtube=build('youtube','v3', developerKey=youTubeApiKey)"
   ]
  },
  {
   "cell_type": "code",
   "execution_count": 1424,
   "metadata": {},
   "outputs": [],
   "source": [
    "playlistId = 'Playlist URL'\n",
    "playlistName = 'BASTIDORES dos JOGOS'\n",
    "nextPage_token = None"
   ]
  },
  {
   "cell_type": "code",
   "execution_count": 1425,
   "metadata": {},
   "outputs": [],
   "source": [
    "playlist_videos = []\n",
    "res = youtube.playlistItems().list(part='snippet', playlistId= playlistId, maxResults=50).execute()"
   ]
  },
  {
   "cell_type": "code",
   "execution_count": 1426,
   "metadata": {},
   "outputs": [],
   "source": [
    "playlist_videos = res['items']"
   ]
  },
  {
   "cell_type": "code",
   "execution_count": 1427,
   "metadata": {},
   "outputs": [],
   "source": [
    "from datetime import datetime"
   ]
  },
  {
   "cell_type": "code",
   "execution_count": 1428,
   "metadata": {},
   "outputs": [],
   "source": [
    "videos_ids = list(map(lambda x: x['snippet']['resourceId']['videoId'], playlist_videos))"
   ]
  },
  {
   "cell_type": "code",
   "execution_count": 1429,
   "metadata": {},
   "outputs": [
    {
     "data": {
      "text/plain": [
       "['xJ1uG3jYJ0c',\n",
       " 'DG8d4eS45BI',\n",
       " 'kH1fEXIESig',\n",
       " 'LytWGssLFhc',\n",
       " 'K3jRjogpD2s',\n",
       " 'tu167WaQBRI',\n",
       " 'vDG2MRSF07o',\n",
       " '5Tzwviop6cQ',\n",
       " 'maSI9NpFZd4',\n",
       " 'oQbU8BbxuFc',\n",
       " 'FbX9unHm3II',\n",
       " 'pS7VbCTYD38',\n",
       " '0eqSUmHGBMU',\n",
       " 'rul4w8WxZz8',\n",
       " 'L3PMwzwfhcM']"
      ]
     },
     "execution_count": 1429,
     "metadata": {},
     "output_type": "execute_result"
    }
   ],
   "source": [
    "videos_ids"
   ]
  },
  {
   "cell_type": "code",
   "execution_count": 1430,
   "metadata": {},
   "outputs": [],
   "source": [
    "stats = []\n",
    "\n",
    "for video_id in videos_ids:\n",
    "    res = youtube.videos().list(part='statistics', id=video_id).execute()\n",
    "    stats += res['items']"
   ]
  },
  {
   "cell_type": "code",
   "execution_count": 1431,
   "metadata": {},
   "outputs": [
    {
     "data": {
      "text/plain": [
       "[{'kind': 'youtube#video',\n",
       "  'etag': 'm7lgxR9UaG7PLFQthVp1tGlYemg',\n",
       "  'id': 'xJ1uG3jYJ0c',\n",
       "  'statistics': {'viewCount': '42284',\n",
       "   'likeCount': '3914',\n",
       "   'favoriteCount': '0',\n",
       "   'commentCount': '103'}},\n",
       " {'kind': 'youtube#video',\n",
       "  'etag': '2YsSJAkgjiClLhUnZ7HJK43asA0',\n",
       "  'id': 'DG8d4eS45BI',\n",
       "  'statistics': {'viewCount': '40294',\n",
       "   'likeCount': '4806',\n",
       "   'favoriteCount': '0',\n",
       "   'commentCount': '121'}},\n",
       " {'kind': 'youtube#video',\n",
       "  'etag': 'j9NFnT0_sbeSPNgyv6rJ_BoYYbY',\n",
       "  'id': 'kH1fEXIESig',\n",
       "  'statistics': {'viewCount': '49579',\n",
       "   'likeCount': '4553',\n",
       "   'favoriteCount': '0',\n",
       "   'commentCount': '175'}},\n",
       " {'kind': 'youtube#video',\n",
       "  'etag': 'BHDlql4QTkAt6WqlWx8_TvquAD8',\n",
       "  'id': 'LytWGssLFhc',\n",
       "  'statistics': {'viewCount': '62075',\n",
       "   'likeCount': '7092',\n",
       "   'favoriteCount': '0',\n",
       "   'commentCount': '307'}},\n",
       " {'kind': 'youtube#video',\n",
       "  'etag': 'KKYMlXkR3OZIyxE3nH7OGz5XHDM',\n",
       "  'id': 'K3jRjogpD2s',\n",
       "  'statistics': {'viewCount': '55059',\n",
       "   'likeCount': '5832',\n",
       "   'favoriteCount': '0',\n",
       "   'commentCount': '186'}},\n",
       " {'kind': 'youtube#video',\n",
       "  'etag': 'KHQtElSX4C3qpOX3bwEt19vR7z0',\n",
       "  'id': 'tu167WaQBRI',\n",
       "  'statistics': {'viewCount': '55857',\n",
       "   'likeCount': '5276',\n",
       "   'favoriteCount': '0',\n",
       "   'commentCount': '192'}},\n",
       " {'kind': 'youtube#video',\n",
       "  'etag': 'vKx1ok_yIZbeIZ4XPWt4asRxG2o',\n",
       "  'id': 'vDG2MRSF07o',\n",
       "  'statistics': {'viewCount': '107064',\n",
       "   'likeCount': '10763',\n",
       "   'favoriteCount': '0',\n",
       "   'commentCount': '324'}},\n",
       " {'kind': 'youtube#video',\n",
       "  'etag': 'UyC2whQcDbKZC1oh-fxmzxOCbTo',\n",
       "  'id': '5Tzwviop6cQ',\n",
       "  'statistics': {'viewCount': '50268',\n",
       "   'likeCount': '4850',\n",
       "   'favoriteCount': '0',\n",
       "   'commentCount': '151'}},\n",
       " {'kind': 'youtube#video',\n",
       "  'etag': 'G5im3xtrAgK7EL70I0yIvoIX9zc',\n",
       "  'id': 'maSI9NpFZd4',\n",
       "  'statistics': {'viewCount': '157112',\n",
       "   'likeCount': '16692',\n",
       "   'favoriteCount': '0',\n",
       "   'commentCount': '883'}},\n",
       " {'kind': 'youtube#video',\n",
       "  'etag': 'a3leLcksmSbbIgLBMsXwl_rzkMo',\n",
       "  'id': 'oQbU8BbxuFc',\n",
       "  'statistics': {'viewCount': '45909',\n",
       "   'likeCount': '4074',\n",
       "   'favoriteCount': '0',\n",
       "   'commentCount': '127'}},\n",
       " {'kind': 'youtube#video',\n",
       "  'etag': 'jZkWAoXUF6v8GLEhR6Gs1Kri_G0',\n",
       "  'id': 'FbX9unHm3II',\n",
       "  'statistics': {'viewCount': '56324',\n",
       "   'likeCount': '3494',\n",
       "   'favoriteCount': '0',\n",
       "   'commentCount': '82'}},\n",
       " {'kind': 'youtube#video',\n",
       "  'etag': '9nJmInbm6EQMdrlkuwI3kMLTrQU',\n",
       "  'id': 'pS7VbCTYD38',\n",
       "  'statistics': {'viewCount': '43476',\n",
       "   'likeCount': '3059',\n",
       "   'favoriteCount': '0',\n",
       "   'commentCount': '105'}},\n",
       " {'kind': 'youtube#video',\n",
       "  'etag': 'xUYZ5aY6KFv8f78UXMDjC1aHGnQ',\n",
       "  'id': '0eqSUmHGBMU',\n",
       "  'statistics': {'viewCount': '26746',\n",
       "   'likeCount': '1731',\n",
       "   'favoriteCount': '0',\n",
       "   'commentCount': '96'}},\n",
       " {'kind': 'youtube#video',\n",
       "  'etag': 'I7YnHHLgJbOh8zfwBsUymVFYmIU',\n",
       "  'id': 'rul4w8WxZz8',\n",
       "  'statistics': {'viewCount': '25064',\n",
       "   'likeCount': '2155',\n",
       "   'favoriteCount': '0',\n",
       "   'commentCount': '92'}},\n",
       " {'kind': 'youtube#video',\n",
       "  'etag': 'wlvF-VULAgEXub-5LflSGQDdkeM',\n",
       "  'id': 'L3PMwzwfhcM',\n",
       "  'statistics': {'viewCount': '52252',\n",
       "   'likeCount': '4026',\n",
       "   'favoriteCount': '0',\n",
       "   'commentCount': '136'}}]"
      ]
     },
     "execution_count": 1431,
     "metadata": {},
     "output_type": "execute_result"
    }
   ],
   "source": [
    "stats"
   ]
  },
  {
   "cell_type": "code",
   "execution_count": 1432,
   "metadata": {},
   "outputs": [],
   "source": [
    "videos_title = list(map(lambda x: x['snippet']['title'], playlist_videos))\n",
    "url_thumbnails = list(map(lambda x: x['snippet']['thumbnails'], playlist_videos))\n",
    "published_date = list(map(lambda x: str(x['snippet']['publishedAt']), playlist_videos)) #conversion from ISO8601 date format\n",
    "video_description = list(map(lambda x: x['snippet']['description'], playlist_videos))\n",
    "videoid = list(map(lambda x: x['snippet']['resourceId']['videoId'], playlist_videos))\n"
   ]
  },
  {
   "cell_type": "code",
   "execution_count": 1433,
   "metadata": {},
   "outputs": [],
   "source": [
    "liked = list(map(lambda x: int(x['statistics']['likeCount']), stats))\n",
    "views = list(map(lambda x: int(x['statistics']['viewCount']), stats))\n",
    "comment = list(map(lambda x: int(x['statistics']['commentCount']), stats))"
   ]
  },
  {
   "cell_type": "code",
   "execution_count": 1434,
   "metadata": {},
   "outputs": [],
   "source": [
    "\n",
    "\n",
    "extraction_date = [str(datetime.now())]*len(videos_ids)"
   ]
  },
  {
   "cell_type": "code",
   "execution_count": 1435,
   "metadata": {},
   "outputs": [],
   "source": [
    "import pandas as pd"
   ]
  },
  {
   "cell_type": "code",
   "execution_count": 1436,
   "metadata": {},
   "outputs": [
    {
     "data": {
      "text/html": [
       "<div>\n",
       "<style scoped>\n",
       "    .dataframe tbody tr th:only-of-type {\n",
       "        vertical-align: middle;\n",
       "    }\n",
       "\n",
       "    .dataframe tbody tr th {\n",
       "        vertical-align: top;\n",
       "    }\n",
       "\n",
       "    .dataframe thead th {\n",
       "        text-align: right;\n",
       "    }\n",
       "</style>\n",
       "<table border=\"1\" class=\"dataframe\">\n",
       "  <thead>\n",
       "    <tr style=\"text-align: right;\">\n",
       "      <th></th>\n",
       "      <th>title</th>\n",
       "      <th>video_id</th>\n",
       "      <th>video_description</th>\n",
       "      <th>published_date</th>\n",
       "      <th>extraction_date</th>\n",
       "      <th>likes</th>\n",
       "      <th>views</th>\n",
       "      <th>comment</th>\n",
       "      <th>thumbnail</th>\n",
       "    </tr>\n",
       "  </thead>\n",
       "  <tbody>\n",
       "    <tr>\n",
       "      <th>0</th>\n",
       "      <td>CINECAM: BASTIDORES | GALO 4 X 0 CARACAS | COP...</td>\n",
       "      <td>xJ1uG3jYJ0c</td>\n",
       "      <td>🤣 Golaço de Hulk, Pedrinho dando show, Scarpa ...</td>\n",
       "      <td>2024-06-02T23:55:37Z</td>\n",
       "      <td>2024-06-16 16:11:58.331069</td>\n",
       "      <td>3914</td>\n",
       "      <td>42284</td>\n",
       "      <td>103</td>\n",
       "      <td>{'default': {'url': 'https://i.ytimg.com/vi/xJ...</td>\n",
       "    </tr>\n",
       "    <tr>\n",
       "      <th>1</th>\n",
       "      <td>CINECAM: BASTIDORES | Rosário Central 0 X 1 GA...</td>\n",
       "      <td>DG8d4eS45BI</td>\n",
       "      <td>🐔 100% na Libertadores e o primeiro brasileiro...</td>\n",
       "      <td>2024-05-14T00:08:41Z</td>\n",
       "      <td>2024-06-16 16:11:58.331069</td>\n",
       "      <td>4806</td>\n",
       "      <td>40294</td>\n",
       "      <td>121</td>\n",
       "      <td>{'default': {'url': 'https://i.ytimg.com/vi/DG...</td>\n",
       "    </tr>\n",
       "    <tr>\n",
       "      <th>2</th>\n",
       "      <td>CINECAM: BASTIDORES | Fluminense 2 X 2 GALO | ...</td>\n",
       "      <td>kH1fEXIESig</td>\n",
       "      <td>CINECAM: BASTIDORES | Fluminense 2 X 2 GALO | ...</td>\n",
       "      <td>2024-05-07T16:29:02Z</td>\n",
       "      <td>2024-06-16 16:11:58.331069</td>\n",
       "      <td>4553</td>\n",
       "      <td>49579</td>\n",
       "      <td>175</td>\n",
       "      <td>{'default': {'url': 'https://i.ytimg.com/vi/kH...</td>\n",
       "    </tr>\n",
       "    <tr>\n",
       "      <th>3</th>\n",
       "      <td>CINECAM BASTIDORES | GALO 2x0 SPORT | COPA DO ...</td>\n",
       "      <td>LytWGssLFhc</td>\n",
       "      <td>VITÓRIA na ESTREIA da COPA DO BRASIL? Temos! C...</td>\n",
       "      <td>2024-05-04T14:05:21Z</td>\n",
       "      <td>2024-06-16 16:11:58.331069</td>\n",
       "      <td>7092</td>\n",
       "      <td>62075</td>\n",
       "      <td>307</td>\n",
       "      <td>{'default': {'url': 'https://i.ytimg.com/vi/Ly...</td>\n",
       "    </tr>\n",
       "    <tr>\n",
       "      <th>4</th>\n",
       "      <td>CINECAM BASTIDORES  | CUIABÁ 0 X 3 GALO  | BRA...</td>\n",
       "      <td>K3jRjogpD2s</td>\n",
       "      <td>Pela quarta rodada do Campeonato Brasileiro 20...</td>\n",
       "      <td>2024-05-04T14:05:35Z</td>\n",
       "      <td>2024-06-16 16:11:58.331069</td>\n",
       "      <td>5832</td>\n",
       "      <td>55059</td>\n",
       "      <td>186</td>\n",
       "      <td>{'default': {'url': 'https://i.ytimg.com/vi/K3...</td>\n",
       "    </tr>\n",
       "  </tbody>\n",
       "</table>\n",
       "</div>"
      ],
      "text/plain": [
       "                                               title     video_id  \\\n",
       "0  CINECAM: BASTIDORES | GALO 4 X 0 CARACAS | COP...  xJ1uG3jYJ0c   \n",
       "1  CINECAM: BASTIDORES | Rosário Central 0 X 1 GA...  DG8d4eS45BI   \n",
       "2  CINECAM: BASTIDORES | Fluminense 2 X 2 GALO | ...  kH1fEXIESig   \n",
       "3  CINECAM BASTIDORES | GALO 2x0 SPORT | COPA DO ...  LytWGssLFhc   \n",
       "4  CINECAM BASTIDORES  | CUIABÁ 0 X 3 GALO  | BRA...  K3jRjogpD2s   \n",
       "\n",
       "                                   video_description        published_date  \\\n",
       "0  🤣 Golaço de Hulk, Pedrinho dando show, Scarpa ...  2024-06-02T23:55:37Z   \n",
       "1  🐔 100% na Libertadores e o primeiro brasileiro...  2024-05-14T00:08:41Z   \n",
       "2  CINECAM: BASTIDORES | Fluminense 2 X 2 GALO | ...  2024-05-07T16:29:02Z   \n",
       "3  VITÓRIA na ESTREIA da COPA DO BRASIL? Temos! C...  2024-05-04T14:05:21Z   \n",
       "4  Pela quarta rodada do Campeonato Brasileiro 20...  2024-05-04T14:05:35Z   \n",
       "\n",
       "              extraction_date  likes  views  comment  \\\n",
       "0  2024-06-16 16:11:58.331069   3914  42284      103   \n",
       "1  2024-06-16 16:11:58.331069   4806  40294      121   \n",
       "2  2024-06-16 16:11:58.331069   4553  49579      175   \n",
       "3  2024-06-16 16:11:58.331069   7092  62075      307   \n",
       "4  2024-06-16 16:11:58.331069   5832  55059      186   \n",
       "\n",
       "                                           thumbnail  \n",
       "0  {'default': {'url': 'https://i.ytimg.com/vi/xJ...  \n",
       "1  {'default': {'url': 'https://i.ytimg.com/vi/DG...  \n",
       "2  {'default': {'url': 'https://i.ytimg.com/vi/kH...  \n",
       "3  {'default': {'url': 'https://i.ytimg.com/vi/Ly...  \n",
       "4  {'default': {'url': 'https://i.ytimg.com/vi/K3...  "
      ]
     },
     "execution_count": 1436,
     "metadata": {},
     "output_type": "execute_result"
    }
   ],
   "source": [
    "playlist_df = pd.DataFrame({'title':videos_title,\n",
    "      'video_id':videoid,\n",
    "      'video_description':video_description,\n",
    "      'published_date':published_date,\n",
    "      'extraction_date':extraction_date,\n",
    "      'likes':liked,\n",
    "      'views':views,\n",
    "      'comment':comment,\n",
    "      'thumbnail': url_thumbnails})\n",
    "playlist_df.head()"
   ]
  },
  {
   "cell_type": "code",
   "execution_count": 1437,
   "metadata": {},
   "outputs": [],
   "source": [
    "playlist_df.to_csv('test.csv', index=False)\n"
   ]
  },
  {
   "cell_type": "code",
   "execution_count": null,
   "metadata": {},
   "outputs": [],
   "source": []
  }
 ],
 "metadata": {
  "kernelspec": {
   "display_name": "Python 3",
   "language": "python",
   "name": "python3"
  },
  "language_info": {
   "codemirror_mode": {
    "name": "ipython",
    "version": 3
   },
   "file_extension": ".py",
   "mimetype": "text/x-python",
   "name": "python",
   "nbconvert_exporter": "python",
   "pygments_lexer": "ipython3",
   "version": "3.9.1"
  }
 },
 "nbformat": 4,
 "nbformat_minor": 2
}
