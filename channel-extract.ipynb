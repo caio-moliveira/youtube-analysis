{
 "cells": [
  {
   "cell_type": "code",
   "execution_count": 3,
   "metadata": {},
   "outputs": [],
   "source": [
    "##!pip install google-api-python-client\n"
   ]
  },
  {
   "cell_type": "code",
   "execution_count": 5,
   "metadata": {},
   "outputs": [],
   "source": [
    "from googleapiclient.discovery import build\n",
    "import pandas as pd\n",
    "from datetime import datetime\n"
   ]
  },
  {
   "cell_type": "code",
   "execution_count": null,
   "metadata": {},
   "outputs": [],
   "source": [
    "youTubeApiKey = \"youTubeApiKey\""
   ]
  },
  {
   "cell_type": "code",
   "execution_count": null,
   "metadata": {},
   "outputs": [],
   "source": [
    "youtube=build('youtube','v3', developerKey=youTubeApiKey)"
   ]
  },
  {
   "cell_type": "code",
   "execution_count": null,
   "metadata": {},
   "outputs": [],
   "source": [
    "# Search for the channel using the custom handle\n",
    "channel_handle = '@cuiabaesporteclube1572'\n",
    "search_response = youtube.search().list(\n",
    "    q=channel_handle,\n",
    "    type='channel',\n",
    "    part='id,snippet',\n",
    "    maxResults=1\n",
    ").execute()"
   ]
  },
  {
   "cell_type": "code",
   "execution_count": null,
   "metadata": {},
   "outputs": [
    {
     "name": "stdout",
     "output_type": "stream",
     "text": [
      "Channel ID: UCnvMjCptspOne0ztN7z-KHg\n"
     ]
    }
   ],
   "source": [
    "if 'items' in search_response and len(search_response['items']) > 0:\n",
    "    channel_id = search_response['items'][0]['snippet']['channelId']\n",
    "    print(f\"Channel ID: {channel_id}\")\n",
    "\n",
    "    try:\n",
    "        # Get the uploads playlist ID for the channel\n",
    "        res = youtube.channels().list(part='contentDetails', id=channel_id).execute()\n",
    "        if 'items' in res and len(res['items']) > 0:\n",
    "            uploads_playlist_id = res['items'][0]['contentDetails']['relatedPlaylists']['uploads']\n",
    "        else:\n",
    "            print(\"Error: Channel not found or no content details available.\")\n",
    "            uploads_playlist_id = None\n",
    "    except Exception as e:\n",
    "        print(f\"An error occurred: {e}\")\n",
    "        uploads_playlist_id = None\n",
    "\n",
    "    if uploads_playlist_id:\n",
    "        # Initialize variables\n",
    "        playlist_videos = []\n",
    "        nextPage_token = None\n"
   ]
  },
  {
   "cell_type": "code",
   "execution_count": null,
   "metadata": {},
   "outputs": [],
   "source": [
    "# Function to get uploads playlist ID\n",
    "def get_uploads_playlist_id(channel_id):\n",
    "    res = youtube.channels().list(part='contentDetails', id=channel_id).execute()\n",
    "    if 'items' in res and len(res['items']) > 0:\n",
    "        return res['items'][0]['contentDetails']['relatedPlaylists']['uploads']\n",
    "    else:\n",
    "        raise ValueError(\"No content details available for the channel.\")"
   ]
  },
  {
   "cell_type": "code",
   "execution_count": null,
   "metadata": {},
   "outputs": [],
   "source": [
    "# Function to get videos from the playlist\n",
    "def get_playlist_videos(playlist_id, max_results=50):\n",
    "    videos = []\n",
    "    next_page_token = None\n",
    "\n",
    "    while len(videos) < max_results:\n",
    "        res = youtube.playlistItems().list(\n",
    "            part='snippet',\n",
    "            playlistId=playlist_id,\n",
    "            maxResults=min(max_results - len(videos), 50),\n",
    "            pageToken=next_page_token\n",
    "        ).execute()\n",
    "\n",
    "        videos.extend(res['items'])\n",
    "        next_page_token = res.get('nextPageToken')\n",
    "        if not next_page_token:\n",
    "            break\n",
    "\n",
    "    return videos"
   ]
  },
  {
   "cell_type": "code",
   "execution_count": null,
   "metadata": {},
   "outputs": [],
   "source": [
    "# Extract video IDs\n",
    "videos_ids = list(map(lambda x: x['snippet']['resourceId']['videoId'], playlist_videos))"
   ]
  },
  {
   "cell_type": "code",
   "execution_count": null,
   "metadata": {},
   "outputs": [],
   "source": [
    "# Function to extract video statistics\n",
    "def get_video_stats(video_ids):\n",
    "    stats = []\n",
    "    for video_id in video_ids:\n",
    "        res = youtube.videos().list(part='statistics', id=video_id).execute()\n",
    "        stats.extend(res['items'])\n",
    "    return stats"
   ]
  },
  {
   "cell_type": "code",
   "execution_count": null,
   "metadata": {},
   "outputs": [],
   "source": [
    "# Main script\n",
    "channel_handle = '@atletico'\n",
    "uploads_playlist_id = get_uploads_playlist_id(channel_id)\n",
    "playlist_videos = get_playlist_videos(uploads_playlist_id, max_results=50)"
   ]
  },
  {
   "cell_type": "code",
   "execution_count": null,
   "metadata": {},
   "outputs": [],
   "source": [
    "# Extract video details\n",
    "videos_ids = [video['snippet']['resourceId']['videoId'] for video in playlist_videos]\n",
    "stats = get_video_stats(videos_ids)"
   ]
  },
  {
   "cell_type": "code",
   "execution_count": null,
   "metadata": {},
   "outputs": [],
   "source": [
    "videos_title = list(map(lambda x: x['snippet']['title'], playlist_videos))\n",
    "url_thumbnails = list(map(lambda x: x['snippet']['thumbnails'], playlist_videos))\n",
    "published_date = list(map(lambda x: str(x['snippet']['publishedAt']), playlist_videos)) #conversion from ISO8601 date format\n",
    "video_description = list(map(lambda x: x['snippet']['description'], playlist_videos))\n",
    "videoid = list(map(lambda x: x['snippet']['resourceId']['videoId'], playlist_videos))\n"
   ]
  },
  {
   "cell_type": "code",
   "execution_count": null,
   "metadata": {},
   "outputs": [],
   "source": [
    "liked = list(map(lambda x: int(x['statistics']['likeCount']), stats))\n",
    "views = list(map(lambda x: int(x['statistics']['viewCount']), stats))\n",
    "comment = list(map(lambda x: int(x['statistics']['commentCount']), stats))"
   ]
  },
  {
   "cell_type": "code",
   "execution_count": null,
   "metadata": {},
   "outputs": [],
   "source": [
    "\n",
    "extraction_date = [str(datetime.now())]*len(videos_ids)"
   ]
  },
  {
   "cell_type": "code",
   "execution_count": null,
   "metadata": {},
   "outputs": [
    {
     "data": {
      "text/html": [
       "<div>\n",
       "<style scoped>\n",
       "    .dataframe tbody tr th:only-of-type {\n",
       "        vertical-align: middle;\n",
       "    }\n",
       "\n",
       "    .dataframe tbody tr th {\n",
       "        vertical-align: top;\n",
       "    }\n",
       "\n",
       "    .dataframe thead th {\n",
       "        text-align: right;\n",
       "    }\n",
       "</style>\n",
       "<table border=\"1\" class=\"dataframe\">\n",
       "  <thead>\n",
       "    <tr style=\"text-align: right;\">\n",
       "      <th></th>\n",
       "      <th>title</th>\n",
       "      <th>video_id</th>\n",
       "      <th>video_description</th>\n",
       "      <th>published_date</th>\n",
       "      <th>extraction_date</th>\n",
       "      <th>likes</th>\n",
       "      <th>views</th>\n",
       "      <th>comment</th>\n",
       "      <th>thumbnail</th>\n",
       "    </tr>\n",
       "  </thead>\n",
       "  <tbody>\n",
       "    <tr>\n",
       "      <th>0</th>\n",
       "      <td>Elenco do Dourado encerra a preparação para en...</td>\n",
       "      <td>XWqoD3Jl6Ps</td>\n",
       "      <td>São Paulo x Cuiabá se enfrentam nesta quarta-f...</td>\n",
       "      <td>2024-06-18T15:39:55Z</td>\n",
       "      <td>2024-06-18 18:28:15.507540</td>\n",
       "      <td>37</td>\n",
       "      <td>136</td>\n",
       "      <td>2</td>\n",
       "      <td>{'default': {'url': 'https://i.ytimg.com/vi/XW...</td>\n",
       "    </tr>\n",
       "    <tr>\n",
       "      <th>1</th>\n",
       "      <td>Os bastidores da goleada por 5 a 0 diante do F...</td>\n",
       "      <td>CoFsgGqD-hY</td>\n",
       "      <td>Dourado cumpriu o dever de casa com placar elá...</td>\n",
       "      <td>2024-06-17T21:51:53Z</td>\n",
       "      <td>2024-06-18 18:28:15.507540</td>\n",
       "      <td>132</td>\n",
       "      <td>1125</td>\n",
       "      <td>16</td>\n",
       "      <td>{'default': {'url': 'https://i.ytimg.com/vi/Co...</td>\n",
       "    </tr>\n",
       "    <tr>\n",
       "      <th>2</th>\n",
       "      <td>Artilheiro do ano, o atacante Isidro Pitta ava...</td>\n",
       "      <td>VhwRSTpgFdw</td>\n",
       "      <td>O paraguaio já marcou 17 gols na temporada 2024</td>\n",
       "      <td>2024-06-17T19:43:09Z</td>\n",
       "      <td>2024-06-18 18:28:15.507540</td>\n",
       "      <td>123</td>\n",
       "      <td>972</td>\n",
       "      <td>17</td>\n",
       "      <td>{'default': {'url': 'https://i.ytimg.com/vi/Vh...</td>\n",
       "    </tr>\n",
       "    <tr>\n",
       "      <th>3</th>\n",
       "      <td>Técnico Petit analisa a vitória diante do Fort...</td>\n",
       "      <td>iJatJkDUglU</td>\n",
       "      <td>Comandante do Dourado falou sobre a goleada co...</td>\n",
       "      <td>2024-06-17T01:44:22Z</td>\n",
       "      <td>2024-06-18 18:28:15.507540</td>\n",
       "      <td>199</td>\n",
       "      <td>2628</td>\n",
       "      <td>32</td>\n",
       "      <td>{'default': {'url': 'https://i.ytimg.com/vi/iJ...</td>\n",
       "    </tr>\n",
       "    <tr>\n",
       "      <th>4</th>\n",
       "      <td>Confira os gols da goleada do Dourado por 5 a ...</td>\n",
       "      <td>4jA4FrnaxFo</td>\n",
       "      <td>Cuiabá mostrou sua força e conquistou a primei...</td>\n",
       "      <td>2024-06-17T00:18:50Z</td>\n",
       "      <td>2024-06-18 18:28:15.507540</td>\n",
       "      <td>153</td>\n",
       "      <td>1557</td>\n",
       "      <td>17</td>\n",
       "      <td>{'default': {'url': 'https://i.ytimg.com/vi/4j...</td>\n",
       "    </tr>\n",
       "  </tbody>\n",
       "</table>\n",
       "</div>"
      ],
      "text/plain": [
       "                                               title     video_id  \\\n",
       "0  Elenco do Dourado encerra a preparação para en...  XWqoD3Jl6Ps   \n",
       "1  Os bastidores da goleada por 5 a 0 diante do F...  CoFsgGqD-hY   \n",
       "2  Artilheiro do ano, o atacante Isidro Pitta ava...  VhwRSTpgFdw   \n",
       "3  Técnico Petit analisa a vitória diante do Fort...  iJatJkDUglU   \n",
       "4  Confira os gols da goleada do Dourado por 5 a ...  4jA4FrnaxFo   \n",
       "\n",
       "                                   video_description        published_date  \\\n",
       "0  São Paulo x Cuiabá se enfrentam nesta quarta-f...  2024-06-18T15:39:55Z   \n",
       "1  Dourado cumpriu o dever de casa com placar elá...  2024-06-17T21:51:53Z   \n",
       "2    O paraguaio já marcou 17 gols na temporada 2024  2024-06-17T19:43:09Z   \n",
       "3  Comandante do Dourado falou sobre a goleada co...  2024-06-17T01:44:22Z   \n",
       "4  Cuiabá mostrou sua força e conquistou a primei...  2024-06-17T00:18:50Z   \n",
       "\n",
       "              extraction_date  likes  views  comment  \\\n",
       "0  2024-06-18 18:28:15.507540     37    136        2   \n",
       "1  2024-06-18 18:28:15.507540    132   1125       16   \n",
       "2  2024-06-18 18:28:15.507540    123    972       17   \n",
       "3  2024-06-18 18:28:15.507540    199   2628       32   \n",
       "4  2024-06-18 18:28:15.507540    153   1557       17   \n",
       "\n",
       "                                           thumbnail  \n",
       "0  {'default': {'url': 'https://i.ytimg.com/vi/XW...  \n",
       "1  {'default': {'url': 'https://i.ytimg.com/vi/Co...  \n",
       "2  {'default': {'url': 'https://i.ytimg.com/vi/Vh...  \n",
       "3  {'default': {'url': 'https://i.ytimg.com/vi/iJ...  \n",
       "4  {'default': {'url': 'https://i.ytimg.com/vi/4j...  "
      ]
     },
     "execution_count": 682,
     "metadata": {},
     "output_type": "execute_result"
    }
   ],
   "source": [
    "playlist_df = pd.DataFrame({'title':videos_title,\n",
    "      'video_id':videoid,\n",
    "      'video_description':video_description,\n",
    "      'published_date':published_date,\n",
    "      'extraction_date':extraction_date,\n",
    "      'likes':liked,\n",
    "      'views':views,\n",
    "      'comment':comment,\n",
    "      'thumbnail': url_thumbnails})\n",
    "playlist_df.head()"
   ]
  },
  {
   "cell_type": "code",
   "execution_count": null,
   "metadata": {},
   "outputs": [],
   "source": [
    "playlist_df.to_csv('cuiabatv.csv', index=False)\n"
   ]
  },
  {
   "cell_type": "code",
   "execution_count": null,
   "metadata": {},
   "outputs": [],
   "source": []
  },
  {
   "cell_type": "code",
   "execution_count": null,
   "metadata": {},
   "outputs": [],
   "source": []
  },
  {
   "cell_type": "code",
   "execution_count": null,
   "metadata": {},
   "outputs": [],
   "source": []
  }
 ],
 "metadata": {
  "kernelspec": {
   "display_name": "Python 3",
   "language": "python",
   "name": "python3"
  },
  "language_info": {
   "codemirror_mode": {
    "name": "ipython",
    "version": 3
   },
   "file_extension": ".py",
   "mimetype": "text/x-python",
   "name": "python",
   "nbconvert_exporter": "python",
   "pygments_lexer": "ipython3",
   "version": "3.9.1"
  }
 },
 "nbformat": 4,
 "nbformat_minor": 2
}
