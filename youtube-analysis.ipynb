{
 "cells": [
  {
   "cell_type": "code",
   "execution_count": 4,
   "metadata": {},
   "outputs": [],
   "source": [
    "import pandas as pd\n",
    "import numpy as np\n",
    "import matplotlib.pyplot as plt\n",
    "import os"
   ]
  },
  {
   "cell_type": "code",
   "execution_count": 12,
   "metadata": {},
   "outputs": [
    {
     "name": "stdout",
     "output_type": "stream",
     "text": [
      "All CSV files have been combined into D:/Caio Machado/Courses/Summer BootCamp 2023 - Predict Analytics/Anaconda Projects/GitHub Projects/youtube-analysis/combined.csv\n"
     ]
    }
   ],
   "source": [
    "# Directory containing the CSV files\n",
    "csv_directory = 'D:/Caio Machado/Courses/Summer BootCamp 2023 - Predict Analytics/Anaconda Projects/GitHub Projects/youtube-analysis'\n",
    "\n",
    "# List to hold DataFrames\n",
    "df_list = []\n",
    "\n",
    "# Iterate over all files in the directory\n",
    "for filename in os.listdir(csv_directory):\n",
    "    if filename.endswith('.csv'):\n",
    "        # Construct the full file path\n",
    "        file_path = os.path.join(csv_directory, filename)\n",
    "        # Read the CSV file into a DataFrame\n",
    "        df = pd.read_csv(file_path, encoding='latin1')\n",
    "        # Append the DataFrame to the list\n",
    "        df_list.append(df)\n",
    "\n",
    "# Concatenate all DataFrames in the list\n",
    "concatenated_df = pd.concat(df_list, ignore_index=True)\n",
    "\n",
    "# Save the concatenated DataFrame to a new CSV file\n",
    "output_file = 'D:/Caio Machado/Courses/Summer BootCamp 2023 - Predict Analytics/Anaconda Projects/GitHub Projects/youtube-analysis/combined.csv'\n",
    "concatenated_df.to_csv(output_file, index=False)\n",
    "\n",
    "print(f\"All CSV files have been combined into {output_file}\")\n"
   ]
  },
  {
   "cell_type": "code",
   "execution_count": 13,
   "metadata": {},
   "outputs": [
    {
     "data": {
      "text/html": [
       "<div>\n",
       "<style scoped>\n",
       "    .dataframe tbody tr th:only-of-type {\n",
       "        vertical-align: middle;\n",
       "    }\n",
       "\n",
       "    .dataframe tbody tr th {\n",
       "        vertical-align: top;\n",
       "    }\n",
       "\n",
       "    .dataframe thead th {\n",
       "        text-align: right;\n",
       "    }\n",
       "</style>\n",
       "<table border=\"1\" class=\"dataframe\">\n",
       "  <thead>\n",
       "    <tr style=\"text-align: right;\">\n",
       "      <th></th>\n",
       "      <th>team_name</th>\n",
       "      <th>video_id</th>\n",
       "      <th>published_date</th>\n",
       "      <th>likes</th>\n",
       "      <th>views</th>\n",
       "      <th>comment</th>\n",
       "    </tr>\n",
       "  </thead>\n",
       "  <tbody>\n",
       "    <tr>\n",
       "      <th>0</th>\n",
       "      <td>Botafogo</td>\n",
       "      <td>f1JdbkcXheA</td>\n",
       "      <td>2024-06-12T23:04:23Z</td>\n",
       "      <td>10623</td>\n",
       "      <td>85793</td>\n",
       "      <td>443</td>\n",
       "    </tr>\n",
       "    <tr>\n",
       "      <th>1</th>\n",
       "      <td>Botafogo</td>\n",
       "      <td>fWwzIRtNTXU</td>\n",
       "      <td>2024-06-03T22:37:14Z</td>\n",
       "      <td>8583</td>\n",
       "      <td>63615</td>\n",
       "      <td>273</td>\n",
       "    </tr>\n",
       "    <tr>\n",
       "      <th>2</th>\n",
       "      <td>Botafogo</td>\n",
       "      <td>TCxcMoK0PvI</td>\n",
       "      <td>2024-05-23T21:06:37Z</td>\n",
       "      <td>7743</td>\n",
       "      <td>60842</td>\n",
       "      <td>285</td>\n",
       "    </tr>\n",
       "    <tr>\n",
       "      <th>3</th>\n",
       "      <td>Botafogo</td>\n",
       "      <td>XRcakhuXuYs</td>\n",
       "      <td>2024-05-10T02:01:42Z</td>\n",
       "      <td>8299</td>\n",
       "      <td>65245</td>\n",
       "      <td>330</td>\n",
       "    </tr>\n",
       "    <tr>\n",
       "      <th>4</th>\n",
       "      <td>Botafogo</td>\n",
       "      <td>ZqrlmiGBjH0</td>\n",
       "      <td>2024-05-03T20:13:32Z</td>\n",
       "      <td>5486</td>\n",
       "      <td>44206</td>\n",
       "      <td>148</td>\n",
       "    </tr>\n",
       "  </tbody>\n",
       "</table>\n",
       "</div>"
      ],
      "text/plain": [
       "  team_name     video_id        published_date  likes  views  comment\n",
       "0  Botafogo  f1JdbkcXheA  2024-06-12T23:04:23Z  10623  85793      443\n",
       "1  Botafogo  fWwzIRtNTXU  2024-06-03T22:37:14Z   8583  63615      273\n",
       "2  Botafogo  TCxcMoK0PvI  2024-05-23T21:06:37Z   7743  60842      285\n",
       "3  Botafogo  XRcakhuXuYs  2024-05-10T02:01:42Z   8299  65245      330\n",
       "4  Botafogo  ZqrlmiGBjH0  2024-05-03T20:13:32Z   5486  44206      148"
      ]
     },
     "execution_count": 13,
     "metadata": {},
     "output_type": "execute_result"
    }
   ],
   "source": [
    "data = pd.read_csv('combined.csv', encoding='utf-8')\n",
    "\n",
    "data.head()"
   ]
  },
  {
   "cell_type": "code",
   "execution_count": null,
   "metadata": {},
   "outputs": [],
   "source": []
  }
 ],
 "metadata": {
  "kernelspec": {
   "display_name": "Python 3",
   "language": "python",
   "name": "python3"
  },
  "language_info": {
   "codemirror_mode": {
    "name": "ipython",
    "version": 3
   },
   "file_extension": ".py",
   "mimetype": "text/x-python",
   "name": "python",
   "nbconvert_exporter": "python",
   "pygments_lexer": "ipython3",
   "version": "3.9.1"
  }
 },
 "nbformat": 4,
 "nbformat_minor": 2
}
